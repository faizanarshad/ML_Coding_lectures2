{
 "cells": [
  {
   "cell_type": "markdown",
   "metadata": {},
   "source": [
    "# Participants\n",
    "\n",
    "Title = \"Scholar\"\n",
    "\n",
    "Name = \"Muhammad Faizan Arshad\"\n",
    "\n",
    "Email = \"faizanarshad124@gmail.com\"\n",
    "\n",
    "Whatsapp = \"+923205501341\"\n"
   ]
  },
  {
   "cell_type": "markdown",
   "metadata": {},
   "source": [
    "## Applying the code of data cleaning and filtering on the FOAP data \n"
   ]
  },
  {
   "cell_type": "code",
   "execution_count": 2,
   "metadata": {},
   "outputs": [
    {
     "data": {
      "text/html": [
       "<div>\n",
       "<style scoped>\n",
       "    .dataframe tbody tr th:only-of-type {\n",
       "        vertical-align: middle;\n",
       "    }\n",
       "\n",
       "    .dataframe tbody tr th {\n",
       "        vertical-align: top;\n",
       "    }\n",
       "\n",
       "    .dataframe thead th {\n",
       "        text-align: right;\n",
       "    }\n",
       "</style>\n",
       "<table border=\"1\" class=\"dataframe\">\n",
       "  <thead>\n",
       "    <tr style=\"text-align: right;\">\n",
       "      <th></th>\n",
       "      <th>Area Code</th>\n",
       "      <th>Area</th>\n",
       "      <th>Item Code</th>\n",
       "      <th>Item</th>\n",
       "      <th>Element Code</th>\n",
       "      <th>Element</th>\n",
       "      <th>Year Code</th>\n",
       "      <th>Year</th>\n",
       "      <th>Unit</th>\n",
       "      <th>Value</th>\n",
       "      <th>Flag</th>\n",
       "    </tr>\n",
       "  </thead>\n",
       "  <tbody>\n",
       "    <tr>\n",
       "      <th>0</th>\n",
       "      <td>2</td>\n",
       "      <td>Afghanistan</td>\n",
       "      <td>515</td>\n",
       "      <td>Apples</td>\n",
       "      <td>64</td>\n",
       "      <td>Import Value Base Period Quantity</td>\n",
       "      <td>1979</td>\n",
       "      <td>1979</td>\n",
       "      <td>1000 $</td>\n",
       "      <td>12752</td>\n",
       "      <td>Fc</td>\n",
       "    </tr>\n",
       "    <tr>\n",
       "      <th>1</th>\n",
       "      <td>2</td>\n",
       "      <td>Afghanistan</td>\n",
       "      <td>515</td>\n",
       "      <td>Apples</td>\n",
       "      <td>64</td>\n",
       "      <td>Import Value Base Period Quantity</td>\n",
       "      <td>1980</td>\n",
       "      <td>1980</td>\n",
       "      <td>1000 $</td>\n",
       "      <td>44827</td>\n",
       "      <td>Fc</td>\n",
       "    </tr>\n",
       "    <tr>\n",
       "      <th>2</th>\n",
       "      <td>2</td>\n",
       "      <td>Afghanistan</td>\n",
       "      <td>515</td>\n",
       "      <td>Apples</td>\n",
       "      <td>64</td>\n",
       "      <td>Import Value Base Period Quantity</td>\n",
       "      <td>2002</td>\n",
       "      <td>2002</td>\n",
       "      <td>1000 $</td>\n",
       "      <td>14416</td>\n",
       "      <td>Fc</td>\n",
       "    </tr>\n",
       "    <tr>\n",
       "      <th>3</th>\n",
       "      <td>2</td>\n",
       "      <td>Afghanistan</td>\n",
       "      <td>515</td>\n",
       "      <td>Apples</td>\n",
       "      <td>64</td>\n",
       "      <td>Import Value Base Period Quantity</td>\n",
       "      <td>2003</td>\n",
       "      <td>2003</td>\n",
       "      <td>1000 $</td>\n",
       "      <td>11450</td>\n",
       "      <td>Fc</td>\n",
       "    </tr>\n",
       "    <tr>\n",
       "      <th>4</th>\n",
       "      <td>2</td>\n",
       "      <td>Afghanistan</td>\n",
       "      <td>515</td>\n",
       "      <td>Apples</td>\n",
       "      <td>64</td>\n",
       "      <td>Import Value Base Period Quantity</td>\n",
       "      <td>2004</td>\n",
       "      <td>2004</td>\n",
       "      <td>1000 $</td>\n",
       "      <td>9719</td>\n",
       "      <td>Fc</td>\n",
       "    </tr>\n",
       "  </tbody>\n",
       "</table>\n",
       "</div>"
      ],
      "text/plain": [
       "   Area Code         Area  Item Code    Item  Element Code  \\\n",
       "0          2  Afghanistan        515  Apples            64   \n",
       "1          2  Afghanistan        515  Apples            64   \n",
       "2          2  Afghanistan        515  Apples            64   \n",
       "3          2  Afghanistan        515  Apples            64   \n",
       "4          2  Afghanistan        515  Apples            64   \n",
       "\n",
       "                             Element  Year Code  Year    Unit  Value Flag  \n",
       "0  Import Value Base Period Quantity       1979  1979  1000 $  12752   Fc  \n",
       "1  Import Value Base Period Quantity       1980  1980  1000 $  44827   Fc  \n",
       "2  Import Value Base Period Quantity       2002  2002  1000 $  14416   Fc  \n",
       "3  Import Value Base Period Quantity       2003  2003  1000 $  11450   Fc  \n",
       "4  Import Value Base Period Quantity       2004  2004  1000 $   9719   Fc  "
      ]
     },
     "execution_count": 2,
     "metadata": {},
     "output_type": "execute_result"
    }
   ],
   "source": [
    "#import the libabries first \n",
    "\n",
    "import seaborn as sns\n",
    "import pandas as pd\n",
    "import numpy as np\n",
    "import matplotlib.pyplot as plt\n",
    "# improt or load the csv file whic we download form FOAF dataset and applying the different methods on it.\n",
    "\n",
    "df = pd.read_csv('data.csv')\n",
    "# see the head of the table or headlines aur attributes of the data.\n",
    "df.head()"
   ]
  },
  {
   "cell_type": "markdown",
   "metadata": {},
   "source": [
    "> shape show us the total number of rows and columns in the data.\n",
    "> \n",
    "> first elemnet shoing the number of lines\n",
    "> \n",
    "> 2nd element showing the number of column\n"
   ]
  },
  {
   "cell_type": "code",
   "execution_count": 4,
   "metadata": {},
   "outputs": [
    {
     "data": {
      "text/plain": [
       "(1298, 11)"
      ]
     },
     "execution_count": 4,
     "metadata": {},
     "output_type": "execute_result"
    }
   ],
   "source": [
    "df.shape"
   ]
  },
  {
   "cell_type": "markdown",
   "metadata": {},
   "source": [
    "> Count the number of values in a perticular cell \n",
    "> \n",
    "> using this command can count more then one value too"
   ]
  },
  {
   "cell_type": "code",
   "execution_count": 8,
   "metadata": {},
   "outputs": [
    {
     "data": {
      "text/plain": [
       "Year\n",
       "2016    60\n",
       "2019    55\n",
       "2018    50\n",
       "2014    50\n",
       "2020    46\n",
       "2015    36\n",
       "2017    35\n",
       "2013    35\n",
       "2012    35\n",
       "2011    35\n",
       "2010    35\n",
       "2009    35\n",
       "2005    30\n",
       "2002    30\n",
       "2003    30\n",
       "2004    30\n",
       "2006    30\n",
       "2007    30\n",
       "2008    30\n",
       "1993    25\n",
       "1995    20\n",
       "1998    20\n",
       "1989    20\n",
       "1999    20\n",
       "1987    20\n",
       "1986    20\n",
       "1985    20\n",
       "2000    20\n",
       "2001    20\n",
       "1994    20\n",
       "1980    19\n",
       "1979    19\n",
       "1997    17\n",
       "1996    15\n",
       "1991    15\n",
       "1992    15\n",
       "1990    15\n",
       "1988    15\n",
       "1978    14\n",
       "1975    14\n",
       "1976    14\n",
       "1977    14\n",
       "1974    14\n",
       "1981    14\n",
       "1982    14\n",
       "1983    14\n",
       "1984    14\n",
       "1967    10\n",
       "1968    10\n",
       "1969    10\n",
       "1970    10\n",
       "1971    10\n",
       "1972    10\n",
       "1973    10\n",
       "1962     5\n",
       "1966     5\n",
       "1965     5\n",
       "1964     5\n",
       "1963     5\n",
       "1961     5\n",
       "dtype: int64"
      ]
     },
     "execution_count": 8,
     "metadata": {},
     "output_type": "execute_result"
    }
   ],
   "source": [
    "df.value_counts(df['Year'])"
   ]
  },
  {
   "cell_type": "code",
   "execution_count": 10,
   "metadata": {},
   "outputs": [
    {
     "data": {
      "text/plain": [
       "array([1979, 1980, 2002, 2003, 2004, 2005, 2006, 2007, 2008, 2009, 2010,\n",
       "       2011, 2012, 2013, 2014, 2016, 2017, 2018, 2019, 2020, 1967, 1968,\n",
       "       1969, 1970, 1971, 1972, 1973, 1974, 1975, 1976, 1977, 1978, 1981,\n",
       "       1982, 1983, 1984, 1985, 1986, 1987, 1988, 1989, 1990, 1991, 1992,\n",
       "       1993, 1994, 1995, 1998, 1999, 2000, 2001, 2015, 1997, 1996, 1961,\n",
       "       1962, 1963, 1964, 1965, 1966])"
      ]
     },
     "execution_count": 10,
     "metadata": {},
     "output_type": "execute_result"
    }
   ],
   "source": [
    "df['Year'].unique()"
   ]
  },
  {
   "cell_type": "markdown",
   "metadata": {},
   "source": [
    "### this line of code will show the histo garaph "
   ]
  },
  {
   "cell_type": "code",
   "execution_count": 11,
   "metadata": {},
   "outputs": [
    {
     "data": {
      "text/plain": [
       "array([[<AxesSubplot:title={'center':'Area Code'}>,\n",
       "        <AxesSubplot:title={'center':'Item Code'}>],\n",
       "       [<AxesSubplot:title={'center':'Element Code'}>,\n",
       "        <AxesSubplot:title={'center':'Year Code'}>],\n",
       "       [<AxesSubplot:title={'center':'Year'}>,\n",
       "        <AxesSubplot:title={'center':'Value'}>]], dtype=object)"
      ]
     },
     "execution_count": 11,
     "metadata": {},
     "output_type": "execute_result"
    },
    {
     "data": {
      "image/png": "[encoded data removed]",
      "text/plain": [
       "<Figure size 432x288 with 6 Axes>"
      ]
     },
     "metadata": {
      "needs_background": "light"
     },
     "output_type": "display_data"
    }
   ],
   "source": [
    "df.hist()"
   ]
  },
  {
   "cell_type": "code",
   "execution_count": 12,
   "metadata": {},
   "outputs": [
    {
     "data": {
      "text/plain": [
       "<AxesSubplot:>"
      ]
     },
     "execution_count": 12,
     "metadata": {},
     "output_type": "execute_result"
    },
    {
     "data": {
      "image/png": "[encoded data removed]",
      "text/plain": [
       "<Figure size 432x288 with 1 Axes>"
      ]
     },
     "metadata": {
      "needs_background": "light"
     },
     "output_type": "display_data"
    }
   ],
   "source": [
    "df[\"Item Code\"].hist()"
   ]
  },
  {
   "cell_type": "markdown",
   "metadata": {},
   "source": [
    "### scatter  graph showing the value of two different attributes\n",
    "on the lovwer edge data is more dence as the value goes upper its going thin"
   ]
  },
  {
   "cell_type": "code",
   "execution_count": 20,
   "metadata": {},
   "outputs": [
    {
     "data": {
      "image/png": "[encoded data removed]",
      "text/plain": [
       "<Figure size 432x288 with 1 Axes>"
      ]
     },
     "metadata": {
      "needs_background": "light"
     },
     "output_type": "display_data"
    }
   ],
   "source": [
    "x = df.Year\n",
    "y = df.Value\n",
    "plt.scatter(x,y)\n",
    "plt.show()"
   ]
  },
  {
   "cell_type": "code",
   "execution_count": 23,
   "metadata": {},
   "outputs": [
    {
     "data": {
      "text/plain": [
       "<matplotlib.collections.PathCollection at 0x7fcb9e080820>"
      ]
     },
     "execution_count": 23,
     "metadata": {},
     "output_type": "execute_result"
    },
    {
     "data": {
      "image/png": "[encoded data removed]",
      "text/plain": [
       "<Figure size 432x288 with 1 Axes>"
      ]
     },
     "metadata": {
      "needs_background": "light"
     },
     "output_type": "display_data"
    }
   ],
   "source": [
    "plt.scatter(data = df, x = \"Year\",y= \"Value\", )"
   ]
  },
  {
   "cell_type": "code",
   "execution_count": 26,
   "metadata": {},
   "outputs": [
    {
     "data": {
      "image/png": "[encoded data removed]",
      "text/plain": [
       "<Figure size 360x194.4 with 1 Axes>"
      ]
     },
     "metadata": {
      "needs_background": "light"
     },
     "output_type": "display_data"
    }
   ],
   "source": [
    "x = np.linspace(0, 2, 100)  # Sample data.\n",
    "y = pd.Year\n",
    "z = pd.Value\n",
    "# Note that even in the OO-style, we use `.pyplot.figure` to create the Figure.\n",
    "fig, ax = plt.subplots(figsize=(5, 2.7), layout='constrained')\n",
    "ax.plot(x, x, label='Year')  # Plot some data on the axes.\n",
    "ax.plot(y, x**2, label='Value')  # Plot more data on the axes...\n",
    "ax.plot(z, x**3, label='Item')  # ... and some more.\n",
    "ax.set_xlabel('Area')  # Add an x-label to the axes.\n",
    "ax.set_ylabel('Value')  # Add a y-label to the axes.\n",
    "ax.set_title(\"Afganistan Area map\")  # Add a title to the axes.\n",
    "ax.legend();  # Add a legend."
   ]
  },
  {
   "cell_type": "code",
   "execution_count": 37,
   "metadata": {},
   "outputs": [
    {
     "data": {
      "image/png": "[encoded data removed]",
      "text/plain": [
       "<Figure size 360x194.4 with 1 Axes>"
      ]
     },
     "metadata": {
      "needs_background": "light"
     },
     "output_type": "display_data"
    }
   ],
   "source": [
    "#x = np.linspace(0, 2, 100)  # Sample data.\n",
    "\n",
    "# Note that even in the OO-style, we use `.pyplot.figure` to create the Figure.\n",
    "fig, ax = plt.subplots(figsize=(5, 2.7), layout='constrained')\n",
    "ax.plot(x, label='Year', data= df[\"Year Code\"])  # Plot some data on the axes.\n",
    "ax.plot(x, label='Value', data = df['Value'])  # Plot more data on the axes...\n",
    "ax.plot(x, label='Item', data = df[\"Item\"])  # ... and some more.\n",
    "ax.set_xlabel('Area')  # Add an x-label to the axes.\n",
    "ax.set_ylabel('Value')  # Add a y-label to the axes.\n",
    "ax.set_title(\"Afganistan Area map\")  # Add a title to the axes.\n",
    "ax.legend();  # Add a legend."
   ]
  },
  {
   "cell_type": "code",
   "execution_count": 38,
   "metadata": {},
   "outputs": [
    {
     "data": {
      "text/html": [
       "<div>\n",
       "<style scoped>\n",
       "    .dataframe tbody tr th:only-of-type {\n",
       "        vertical-align: middle;\n",
       "    }\n",
       "\n",
       "    .dataframe tbody tr th {\n",
       "        vertical-align: top;\n",
       "    }\n",
       "\n",
       "    .dataframe thead th {\n",
       "        text-align: right;\n",
       "    }\n",
       "</style>\n",
       "<table border=\"1\" class=\"dataframe\">\n",
       "  <thead>\n",
       "    <tr style=\"text-align: right;\">\n",
       "      <th></th>\n",
       "      <th>Area Code</th>\n",
       "      <th>Item Code</th>\n",
       "      <th>Element Code</th>\n",
       "      <th>Year Code</th>\n",
       "      <th>Year</th>\n",
       "      <th>Value</th>\n",
       "    </tr>\n",
       "  </thead>\n",
       "  <tbody>\n",
       "    <tr>\n",
       "      <th>Area Code</th>\n",
       "      <td>NaN</td>\n",
       "      <td>NaN</td>\n",
       "      <td>NaN</td>\n",
       "      <td>NaN</td>\n",
       "      <td>NaN</td>\n",
       "      <td>NaN</td>\n",
       "    </tr>\n",
       "    <tr>\n",
       "      <th>Item Code</th>\n",
       "      <td>NaN</td>\n",
       "      <td>1.000000</td>\n",
       "      <td>-0.027544</td>\n",
       "      <td>-0.122248</td>\n",
       "      <td>-0.122248</td>\n",
       "      <td>0.264930</td>\n",
       "    </tr>\n",
       "    <tr>\n",
       "      <th>Element Code</th>\n",
       "      <td>NaN</td>\n",
       "      <td>-0.027544</td>\n",
       "      <td>1.000000</td>\n",
       "      <td>-0.009299</td>\n",
       "      <td>-0.009299</td>\n",
       "      <td>-0.454060</td>\n",
       "    </tr>\n",
       "    <tr>\n",
       "      <th>Year Code</th>\n",
       "      <td>NaN</td>\n",
       "      <td>-0.122248</td>\n",
       "      <td>-0.009299</td>\n",
       "      <td>1.000000</td>\n",
       "      <td>1.000000</td>\n",
       "      <td>-0.002877</td>\n",
       "    </tr>\n",
       "    <tr>\n",
       "      <th>Year</th>\n",
       "      <td>NaN</td>\n",
       "      <td>-0.122248</td>\n",
       "      <td>-0.009299</td>\n",
       "      <td>1.000000</td>\n",
       "      <td>1.000000</td>\n",
       "      <td>-0.002877</td>\n",
       "    </tr>\n",
       "    <tr>\n",
       "      <th>Value</th>\n",
       "      <td>NaN</td>\n",
       "      <td>0.264930</td>\n",
       "      <td>-0.454060</td>\n",
       "      <td>-0.002877</td>\n",
       "      <td>-0.002877</td>\n",
       "      <td>1.000000</td>\n",
       "    </tr>\n",
       "  </tbody>\n",
       "</table>\n",
       "</div>"
      ],
      "text/plain": [
       "              Area Code  Item Code  Element Code  Year Code      Year  \\\n",
       "Area Code           NaN        NaN           NaN        NaN       NaN   \n",
       "Item Code           NaN   1.000000     -0.027544  -0.122248 -0.122248   \n",
       "Element Code        NaN  -0.027544      1.000000  -0.009299 -0.009299   \n",
       "Year Code           NaN  -0.122248     -0.009299   1.000000  1.000000   \n",
       "Year                NaN  -0.122248     -0.009299   1.000000  1.000000   \n",
       "Value               NaN   0.264930     -0.454060  -0.002877 -0.002877   \n",
       "\n",
       "                 Value  \n",
       "Area Code          NaN  \n",
       "Item Code     0.264930  \n",
       "Element Code -0.454060  \n",
       "Year Code    -0.002877  \n",
       "Year         -0.002877  \n",
       "Value         1.000000  "
      ]
     },
     "execution_count": 38,
     "metadata": {},
     "output_type": "execute_result"
    }
   ],
   "source": [
    "df.corr()"
   ]
  },
  {
   "cell_type": "code",
   "execution_count": 42,
   "metadata": {},
   "outputs": [
    {
     "data": {
      "text/html": [
       "<div>\n",
       "<style scoped>\n",
       "    .dataframe tbody tr th:only-of-type {\n",
       "        vertical-align: middle;\n",
       "    }\n",
       "\n",
       "    .dataframe tbody tr th {\n",
       "        vertical-align: top;\n",
       "    }\n",
       "\n",
       "    .dataframe thead th {\n",
       "        text-align: right;\n",
       "    }\n",
       "</style>\n",
       "<table border=\"1\" class=\"dataframe\">\n",
       "  <thead>\n",
       "    <tr style=\"text-align: right;\">\n",
       "      <th></th>\n",
       "      <th>Area</th>\n",
       "      <th>Item Code</th>\n",
       "      <th>Item</th>\n",
       "      <th>Element Code</th>\n",
       "      <th>Element</th>\n",
       "      <th>Year Code</th>\n",
       "      <th>Year</th>\n",
       "      <th>Unit</th>\n",
       "      <th>Value</th>\n",
       "      <th>Flag</th>\n",
       "    </tr>\n",
       "  </thead>\n",
       "  <tbody>\n",
       "    <tr>\n",
       "      <th>0</th>\n",
       "      <td>Afghanistan</td>\n",
       "      <td>515</td>\n",
       "      <td>Apples</td>\n",
       "      <td>64</td>\n",
       "      <td>Import Value Base Period Quantity</td>\n",
       "      <td>1979</td>\n",
       "      <td>1979</td>\n",
       "      <td>1000 $</td>\n",
       "      <td>12752</td>\n",
       "      <td>Fc</td>\n",
       "    </tr>\n",
       "    <tr>\n",
       "      <th>1</th>\n",
       "      <td>Afghanistan</td>\n",
       "      <td>515</td>\n",
       "      <td>Apples</td>\n",
       "      <td>64</td>\n",
       "      <td>Import Value Base Period Quantity</td>\n",
       "      <td>1980</td>\n",
       "      <td>1980</td>\n",
       "      <td>1000 $</td>\n",
       "      <td>44827</td>\n",
       "      <td>Fc</td>\n",
       "    </tr>\n",
       "    <tr>\n",
       "      <th>2</th>\n",
       "      <td>Afghanistan</td>\n",
       "      <td>515</td>\n",
       "      <td>Apples</td>\n",
       "      <td>64</td>\n",
       "      <td>Import Value Base Period Quantity</td>\n",
       "      <td>2002</td>\n",
       "      <td>2002</td>\n",
       "      <td>1000 $</td>\n",
       "      <td>14416</td>\n",
       "      <td>Fc</td>\n",
       "    </tr>\n",
       "    <tr>\n",
       "      <th>3</th>\n",
       "      <td>Afghanistan</td>\n",
       "      <td>515</td>\n",
       "      <td>Apples</td>\n",
       "      <td>64</td>\n",
       "      <td>Import Value Base Period Quantity</td>\n",
       "      <td>2003</td>\n",
       "      <td>2003</td>\n",
       "      <td>1000 $</td>\n",
       "      <td>11450</td>\n",
       "      <td>Fc</td>\n",
       "    </tr>\n",
       "    <tr>\n",
       "      <th>4</th>\n",
       "      <td>Afghanistan</td>\n",
       "      <td>515</td>\n",
       "      <td>Apples</td>\n",
       "      <td>64</td>\n",
       "      <td>Import Value Base Period Quantity</td>\n",
       "      <td>2004</td>\n",
       "      <td>2004</td>\n",
       "      <td>1000 $</td>\n",
       "      <td>9719</td>\n",
       "      <td>Fc</td>\n",
       "    </tr>\n",
       "  </tbody>\n",
       "</table>\n",
       "</div>"
      ],
      "text/plain": [
       "          Area  Item Code    Item  Element Code  \\\n",
       "0  Afghanistan        515  Apples            64   \n",
       "1  Afghanistan        515  Apples            64   \n",
       "2  Afghanistan        515  Apples            64   \n",
       "3  Afghanistan        515  Apples            64   \n",
       "4  Afghanistan        515  Apples            64   \n",
       "\n",
       "                             Element  Year Code  Year    Unit  Value Flag  \n",
       "0  Import Value Base Period Quantity       1979  1979  1000 $  12752   Fc  \n",
       "1  Import Value Base Period Quantity       1980  1980  1000 $  44827   Fc  \n",
       "2  Import Value Base Period Quantity       2002  2002  1000 $  14416   Fc  \n",
       "3  Import Value Base Period Quantity       2003  2003  1000 $  11450   Fc  \n",
       "4  Import Value Base Period Quantity       2004  2004  1000 $   9719   Fc  "
      ]
     },
     "execution_count": 42,
     "metadata": {},
     "output_type": "execute_result"
    }
   ],
   "source": [
    "df_clean = df.drop(['Area Code'],  axis = 1)\n",
    "df_clean.head()"
   ]
  },
  {
   "cell_type": "code",
   "execution_count": 43,
   "metadata": {},
   "outputs": [
    {
     "data": {
      "text/html": [
       "<div>\n",
       "<style scoped>\n",
       "    .dataframe tbody tr th:only-of-type {\n",
       "        vertical-align: middle;\n",
       "    }\n",
       "\n",
       "    .dataframe tbody tr th {\n",
       "        vertical-align: top;\n",
       "    }\n",
       "\n",
       "    .dataframe thead th {\n",
       "        text-align: right;\n",
       "    }\n",
       "</style>\n",
       "<table border=\"1\" class=\"dataframe\">\n",
       "  <thead>\n",
       "    <tr style=\"text-align: right;\">\n",
       "      <th></th>\n",
       "      <th>Item Code</th>\n",
       "      <th>Element Code</th>\n",
       "      <th>Year Code</th>\n",
       "      <th>Year</th>\n",
       "      <th>Value</th>\n",
       "    </tr>\n",
       "  </thead>\n",
       "  <tbody>\n",
       "    <tr>\n",
       "      <th>Item Code</th>\n",
       "      <td>1.000000</td>\n",
       "      <td>-0.027544</td>\n",
       "      <td>-0.122248</td>\n",
       "      <td>-0.122248</td>\n",
       "      <td>0.264930</td>\n",
       "    </tr>\n",
       "    <tr>\n",
       "      <th>Element Code</th>\n",
       "      <td>-0.027544</td>\n",
       "      <td>1.000000</td>\n",
       "      <td>-0.009299</td>\n",
       "      <td>-0.009299</td>\n",
       "      <td>-0.454060</td>\n",
       "    </tr>\n",
       "    <tr>\n",
       "      <th>Year Code</th>\n",
       "      <td>-0.122248</td>\n",
       "      <td>-0.009299</td>\n",
       "      <td>1.000000</td>\n",
       "      <td>1.000000</td>\n",
       "      <td>-0.002877</td>\n",
       "    </tr>\n",
       "    <tr>\n",
       "      <th>Year</th>\n",
       "      <td>-0.122248</td>\n",
       "      <td>-0.009299</td>\n",
       "      <td>1.000000</td>\n",
       "      <td>1.000000</td>\n",
       "      <td>-0.002877</td>\n",
       "    </tr>\n",
       "    <tr>\n",
       "      <th>Value</th>\n",
       "      <td>0.264930</td>\n",
       "      <td>-0.454060</td>\n",
       "      <td>-0.002877</td>\n",
       "      <td>-0.002877</td>\n",
       "      <td>1.000000</td>\n",
       "    </tr>\n",
       "  </tbody>\n",
       "</table>\n",
       "</div>"
      ],
      "text/plain": [
       "              Item Code  Element Code  Year Code      Year     Value\n",
       "Item Code      1.000000     -0.027544  -0.122248 -0.122248  0.264930\n",
       "Element Code  -0.027544      1.000000  -0.009299 -0.009299 -0.454060\n",
       "Year Code     -0.122248     -0.009299   1.000000  1.000000 -0.002877\n",
       "Year          -0.122248     -0.009299   1.000000  1.000000 -0.002877\n",
       "Value          0.264930     -0.454060  -0.002877 -0.002877  1.000000"
      ]
     },
     "execution_count": 43,
     "metadata": {},
     "output_type": "execute_result"
    }
   ],
   "source": [
    "df_clean.corr()"
   ]
  },
  {
   "cell_type": "code",
   "execution_count": 46,
   "metadata": {},
   "outputs": [],
   "source": [
    "df_clean_corr= df_clean.corr()"
   ]
  },
  {
   "cell_type": "code",
   "execution_count": 47,
   "metadata": {},
   "outputs": [
    {
     "data": {
      "text/plain": [
       "<AxesSubplot:>"
      ]
     },
     "execution_count": 47,
     "metadata": {},
     "output_type": "execute_result"
    },
    {
     "data": {
      "image/png": "[encoded data removed]",
      "text/plain": [
       "<Figure size 432x288 with 2 Axes>"
      ]
     },
     "metadata": {
      "needs_background": "light"
     },
     "output_type": "display_data"
    }
   ],
   "source": [
    "sns.heatmap(df_clean_corr)"
   ]
  },
  {
   "cell_type": "code",
   "execution_count": 48,
   "metadata": {},
   "outputs": [
    {
     "data": {
      "text/plain": [
       "<AxesSubplot:>"
      ]
     },
     "execution_count": 48,
     "metadata": {},
     "output_type": "execute_result"
    },
    {
     "data": {
      "image/png": "[encoded data removed]",
      "text/plain": [
       "<Figure size 432x288 with 2 Axes>"
      ]
     },
     "metadata": {
      "needs_background": "light"
     },
     "output_type": "display_data"
    }
   ],
   "source": [
    "sns.heatmap(df_clean_corr, annot= True)"
   ]
  },
  {
   "cell_type": "code",
   "execution_count": null,
   "metadata": {},
   "outputs": [],
   "source": []
  }
 ],
 "metadata": {
  "interpreter": {
   "hash": "a7dedf4eff3048740122ebb4d2814c565cf9b2b6a4e4af8875eef51e631449d8"
  },
  "kernelspec": {
   "display_name": "Python 3.8.12 64-bit ('base': conda)",
   "language": "python",
   "name": "python3"
  },
  "language_info": {
   "codemirror_mode": {
    "name": "ipython",
    "version": 3
   },
   "file_extension": ".py",
   "mimetype": "text/x-python",
   "name": "python",
   "nbconvert_exporter": "python",
   "pygments_lexer": "ipython3",
   "version": "3.8.3"
  },
  "orig_nbformat": 4
 },
 "nbformat": 4,
 "nbformat_minor": 2
}
