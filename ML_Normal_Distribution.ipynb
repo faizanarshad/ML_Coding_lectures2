{
 "cells": [
  {
   "cell_type": "code",
   "execution_count": 1,
   "metadata": {},
   "outputs": [],
   "source": [
    "import pandas as pd\n",
    "import numpy as np\n",
    "import seaborn as sns\n",
    "import matplotlib.pyplot as plt"
   ]
  },
  {
   "cell_type": "code",
   "execution_count": 2,
   "metadata": {},
   "outputs": [
    {
     "data": {
      "text/plain": [
       "<matplotlib.collections.PathCollection at 0x7f8b67130f40>"
      ]
     },
     "execution_count": 2,
     "metadata": {},
     "output_type": "execute_result"
    },
    {
     "data": {
      "image/png": "[encoded data removed]",
      "text/plain": [
       "<Figure size 360x360 with 1 Axes>"
      ]
     },
     "metadata": {},
     "output_type": "display_data"
    }
   ],
   "source": [
    "# Normal Distribution\n",
    "\n",
    "def pdf(x):\n",
    "    mean = np.mean(x)\n",
    "    std = np.std(x)\n",
    "    y_out = 1/(std * np.sqrt(2 * np.pi)) * np.exp(- (x - mean) **2 /  (2 * std ** 2))\n",
    "    return y_out\n",
    "\n",
    "\n",
    "# to generate an array of x\n",
    "x = np.arange(-2 ,2 , 0.1)\n",
    "y = pdf(x)\n",
    "\n",
    "#plotting the normal curve/bell curve or gaussian distribution\n",
    "\n",
    "plt.style.use('seaborn')\n",
    "\n",
    "plt.figure(figsize=(5,5))\n",
    "\n",
    "plt.plot(x ,y ,color = 'blue',linestyle = \"dashed\")\n",
    "\n",
    "plt.scatter(x,y , marker='o', s=25, color = 'red')"
   ]
  },
  {
   "cell_type": "markdown",
   "metadata": {},
   "source": [
    "# Normal Distribution and its Test"
   ]
  },
  {
   "cell_type": "code",
   "execution_count": 3,
   "metadata": {},
   "outputs": [],
   "source": [
    "# histogram"
   ]
  },
  {
   "cell_type": "markdown",
   "metadata": {},
   "source": [
    "### Normal distribution wnd its test\n",
    "1.import dataset\n",
    "2.subsetting a dataset\n",
    "3.visual test for normal distribution\n",
    "    1.\n",
    "4.statistical model"
   ]
  },
  {
   "cell_type": "code",
   "execution_count": 4,
   "metadata": {},
   "outputs": [
    {
     "data": {
      "text/html": [
       "<div>\n",
       "<style scoped>\n",
       "    .dataframe tbody tr th:only-of-type {\n",
       "        vertical-align: middle;\n",
       "    }\n",
       "\n",
       "    .dataframe tbody tr th {\n",
       "        vertical-align: top;\n",
       "    }\n",
       "\n",
       "    .dataframe thead th {\n",
       "        text-align: right;\n",
       "    }\n",
       "</style>\n",
       "<table border=\"1\" class=\"dataframe\">\n",
       "  <thead>\n",
       "    <tr style=\"text-align: right;\">\n",
       "      <th></th>\n",
       "      <th>survived</th>\n",
       "      <th>pclass</th>\n",
       "      <th>sex</th>\n",
       "      <th>age</th>\n",
       "      <th>sibsp</th>\n",
       "      <th>parch</th>\n",
       "      <th>fare</th>\n",
       "      <th>embarked</th>\n",
       "      <th>class</th>\n",
       "      <th>who</th>\n",
       "      <th>adult_male</th>\n",
       "      <th>deck</th>\n",
       "      <th>embark_town</th>\n",
       "      <th>alive</th>\n",
       "      <th>alone</th>\n",
       "    </tr>\n",
       "  </thead>\n",
       "  <tbody>\n",
       "    <tr>\n",
       "      <th>0</th>\n",
       "      <td>0</td>\n",
       "      <td>3</td>\n",
       "      <td>male</td>\n",
       "      <td>22.0</td>\n",
       "      <td>1</td>\n",
       "      <td>0</td>\n",
       "      <td>7.2500</td>\n",
       "      <td>S</td>\n",
       "      <td>Third</td>\n",
       "      <td>man</td>\n",
       "      <td>True</td>\n",
       "      <td>NaN</td>\n",
       "      <td>Southampton</td>\n",
       "      <td>no</td>\n",
       "      <td>False</td>\n",
       "    </tr>\n",
       "    <tr>\n",
       "      <th>1</th>\n",
       "      <td>1</td>\n",
       "      <td>1</td>\n",
       "      <td>female</td>\n",
       "      <td>38.0</td>\n",
       "      <td>1</td>\n",
       "      <td>0</td>\n",
       "      <td>71.2833</td>\n",
       "      <td>C</td>\n",
       "      <td>First</td>\n",
       "      <td>woman</td>\n",
       "      <td>False</td>\n",
       "      <td>C</td>\n",
       "      <td>Cherbourg</td>\n",
       "      <td>yes</td>\n",
       "      <td>False</td>\n",
       "    </tr>\n",
       "  </tbody>\n",
       "</table>\n",
       "</div>"
      ],
      "text/plain": [
       "   survived  pclass     sex   age  sibsp  parch     fare embarked  class  \\\n",
       "0         0       3    male  22.0      1      0   7.2500        S  Third   \n",
       "1         1       1  female  38.0      1      0  71.2833        C  First   \n",
       "\n",
       "     who  adult_male deck  embark_town alive  alone  \n",
       "0    man        True  NaN  Southampton    no  False  \n",
       "1  woman       False    C    Cherbourg   yes  False  "
      ]
     },
     "execution_count": 4,
     "metadata": {},
     "output_type": "execute_result"
    }
   ],
   "source": [
    "# import dataset\n",
    "kashti = sns.load_dataset('titanic')\n",
    "kashti.head(2)"
   ]
  },
  {
   "cell_type": "code",
   "execution_count": 5,
   "metadata": {},
   "outputs": [],
   "source": [
    "kashti = kashti[[\"age\",\"fare\",\"sex\"]]"
   ]
  },
  {
   "cell_type": "code",
   "execution_count": 6,
   "metadata": {},
   "outputs": [
    {
     "data": {
      "text/html": [
       "<div>\n",
       "<style scoped>\n",
       "    .dataframe tbody tr th:only-of-type {\n",
       "        vertical-align: middle;\n",
       "    }\n",
       "\n",
       "    .dataframe tbody tr th {\n",
       "        vertical-align: top;\n",
       "    }\n",
       "\n",
       "    .dataframe thead th {\n",
       "        text-align: right;\n",
       "    }\n",
       "</style>\n",
       "<table border=\"1\" class=\"dataframe\">\n",
       "  <thead>\n",
       "    <tr style=\"text-align: right;\">\n",
       "      <th></th>\n",
       "      <th>age</th>\n",
       "      <th>fare</th>\n",
       "      <th>sex</th>\n",
       "    </tr>\n",
       "  </thead>\n",
       "  <tbody>\n",
       "    <tr>\n",
       "      <th>0</th>\n",
       "      <td>22.0</td>\n",
       "      <td>7.2500</td>\n",
       "      <td>male</td>\n",
       "    </tr>\n",
       "    <tr>\n",
       "      <th>1</th>\n",
       "      <td>38.0</td>\n",
       "      <td>71.2833</td>\n",
       "      <td>female</td>\n",
       "    </tr>\n",
       "  </tbody>\n",
       "</table>\n",
       "</div>"
      ],
      "text/plain": [
       "    age     fare     sex\n",
       "0  22.0   7.2500    male\n",
       "1  38.0  71.2833  female"
      ]
     },
     "execution_count": 6,
     "metadata": {},
     "output_type": "execute_result"
    }
   ],
   "source": [
    "kashti.head(2)"
   ]
  },
  {
   "cell_type": "code",
   "execution_count": 7,
   "metadata": {},
   "outputs": [
    {
     "data": {
      "text/plain": [
       "<AxesSubplot:xlabel='age', ylabel='Count'>"
      ]
     },
     "execution_count": 7,
     "metadata": {},
     "output_type": "execute_result"
    },
    {
     "data": {
      "image/png": "[encoded data removed]",
      "text/plain": [
       "<Figure size 576x396 with 1 Axes>"
      ]
     },
     "metadata": {},
     "output_type": "display_data"
    }
   ],
   "source": [
    "#histo\n",
    "sns.histplot(kashti[\"age\"])"
   ]
  },
  {
   "cell_type": "code",
   "execution_count": 8,
   "metadata": {},
   "outputs": [
    {
     "data": {
      "text/plain": [
       "<AxesSubplot:xlabel='fare', ylabel='Count'>"
      ]
     },
     "execution_count": 8,
     "metadata": {},
     "output_type": "execute_result"
    },
    {
     "data": {
      "image/png": "[encoded data removed]",
      "text/plain": [
       "<Figure size 576x396 with 1 Axes>"
      ]
     },
     "metadata": {},
     "output_type": "display_data"
    }
   ],
   "source": [
    "sns.histplot(kashti[\"fare\"])"
   ]
  },
  {
   "cell_type": "code",
   "execution_count": 9,
   "metadata": {},
   "outputs": [
    {
     "data": {
      "image/png": "[encoded data removed]",
      "text/plain": [
       "<Figure size 576x396 with 1 Axes>"
      ]
     },
     "metadata": {},
     "output_type": "display_data"
    }
   ],
   "source": [
    "#qq plot\n",
    "from statsmodels.graphics.gofplots import qqplot\n",
    "\n",
    "# qq norm plot\n",
    "qqplot(kashti[\"age\"])\n",
    "plt.show()"
   ]
  },
  {
   "cell_type": "code",
   "execution_count": 10,
   "metadata": {},
   "outputs": [
    {
     "data": {
      "image/png": "[encoded data removed]",
      "text/plain": [
       "<Figure size 576x396 with 1 Axes>"
      ]
     },
     "metadata": {},
     "output_type": "display_data"
    }
   ],
   "source": [
    "qqplot(kashti[\"fare\"])\n",
    "plt.show()"
   ]
  },
  {
   "cell_type": "markdown",
   "metadata": {},
   "source": [
    "### shapiro Test"
   ]
  },
  {
   "cell_type": "code",
   "execution_count": 11,
   "metadata": {},
   "outputs": [
    {
     "name": "stdout",
     "output_type": "stream",
     "text": [
      "stats=0.522,p=0.000\n",
      "probabily not gaussian or normal Distribution\n"
     ]
    }
   ],
   "source": [
    "# shapirowalk test\n",
    "\n",
    "# import library\n",
    "from scipy.stats import shapiro\n",
    "\n",
    "# \n",
    "shapiro(kashti['age'])\n",
    "\n",
    "stat,p = shapiro(kashti['fare'])\n",
    "\n",
    "print('stats=%.3f,p=%.3f'% (stat,p))\n",
    "\n",
    "# make a conditional Argument for further use\n",
    "\n",
    "if p > 0.05:\n",
    "    print('probabily gaussian or normal Distribution')\n",
    "else:\n",
    "    print('probabily not gaussian or normal Distribution')\n"
   ]
  },
  {
   "cell_type": "code",
   "execution_count": 12,
   "metadata": {},
   "outputs": [
    {
     "name": "stdout",
     "output_type": "stream",
     "text": [
      "stats=nan,p=1.000\n",
      "probabily gaussian or normal Distribution\n"
     ]
    }
   ],
   "source": [
    "# shapirowalk test\n",
    "\n",
    "# import library\n",
    "from scipy.stats import shapiro\n",
    "\n",
    "# \n",
    "shapiro(kashti['age'])\n",
    "\n",
    "stat,p = shapiro(kashti['age'])\n",
    "\n",
    "print('stats=%.3f,p=%.3f'% (stat,p))\n",
    "\n",
    "# make a conditional Argument for further use\n",
    "\n",
    "if p > 0.05:\n",
    "    print('probabily gaussian or normal Distribution')\n",
    "else:\n",
    "    print('probabily not gaussian or normal Distribution')\n"
   ]
  },
  {
   "cell_type": "code",
   "execution_count": 13,
   "metadata": {},
   "outputs": [
    {
     "name": "stdout",
     "output_type": "stream",
     "text": [
      "stats=nan,p=nan\n",
      "probabily not gaussian or normal Distribution\n"
     ]
    }
   ],
   "source": [
    "# D'Agostino's test\n",
    "\n",
    "# import library\n",
    "from scipy.stats import normaltest\n",
    "\n",
    "# \n",
    "normaltest(kashti['age'])\n",
    "\n",
    "stat,p = normaltest(kashti['age'])\n",
    "\n",
    "print('stats=%.3f,p=%.3f'% (stat,p))\n",
    "\n",
    "# make a conditional Argument for further use\n",
    "\n",
    "if p > 0.05:\n",
    "    print('probabily gaussian or normal Distribution')\n",
    "else:\n",
    "    print('probabily not gaussian or normal Distribution')\n"
   ]
  },
  {
   "cell_type": "code",
   "execution_count": 14,
   "metadata": {},
   "outputs": [
    {
     "data": {
      "text/plain": [
       "ShapiroResult(statistic=0.5218914747238159, pvalue=1.0789998175301091e-43)"
      ]
     },
     "execution_count": 14,
     "metadata": {},
     "output_type": "execute_result"
    }
   ],
   "source": [
    "shapiro(kashti['fare'])"
   ]
  },
  {
   "cell_type": "markdown",
   "metadata": {},
   "source": [
    "# Anderson-Darling Test"
   ]
  },
  {
   "cell_type": "code",
   "execution_count": 17,
   "metadata": {},
   "outputs": [
    {
     "name": "stdout",
     "output_type": "stream",
     "text": [
      "Statistic: nan\n",
      "Probability Gaussian/Normal Distribution at the 15.0% Level\n",
      "Probability Gaussian/Normal Distribution at the 10.0% Level\n",
      "Probability Gaussian/Normal Distribution at the 5.0% Level\n",
      "Probability Gaussian/Normal Distribution at the 2.5% Level\n",
      "Probability Gaussian/Normal Distribution at the 1.0% Level\n"
     ]
    }
   ],
   "source": [
    "from scipy.stats import anderson\n",
    "\n",
    "# select a column to check the normal distribution\n",
    "\n",
    "result = anderson(kashti['age'])\n",
    "print('Statistic: %.3f' % (result.statistic))\n",
    "for i in range(len(result.critical_values)):\n",
    "\tsl, cv = result.significance_level[i], result.critical_values[i]\n",
    "\tif result.statistic < cv:\n",
    "\t\tprint('Probability Gaussian/Normal Distribution at the %.1f%% Level' % (sl))\n",
    "\telse:\n",
    "\t\tprint('Probability Gaussian/Normal Distribution at the %.1f%% Level' % (sl))\n"
   ]
  }
 ],
 "metadata": {
  "interpreter": {
   "hash": "a7dedf4eff3048740122ebb4d2814c565cf9b2b6a4e4af8875eef51e631449d8"
  },
  "kernelspec": {
   "display_name": "Python 3.8.12 ('base')",
   "language": "python",
   "name": "python3"
  },
  "language_info": {
   "codemirror_mode": {
    "name": "ipython",
    "version": 3
   },
   "file_extension": ".py",
   "mimetype": "text/x-python",
   "name": "python",
   "nbconvert_exporter": "python",
   "pygments_lexer": "ipython3",
   "version": "3.8.12"
  },
  "orig_nbformat": 4
 },
 "nbformat": 4,
 "nbformat_minor": 2
}
